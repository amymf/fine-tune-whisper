{
 "cells": [
  {
   "cell_type": "code",
   "execution_count": 1,
   "id": "bbd1c94a",
   "metadata": {},
   "outputs": [
    {
     "name": "stderr",
     "output_type": "stream",
     "text": [
      "/Users/amyfreear/Documents/MLX/Week 5/fine-tune-whisper/venv/lib/python3.13/site-packages/tqdm/auto.py:21: TqdmWarning: IProgress not found. Please update jupyter and ipywidgets. See https://ipywidgets.readthedocs.io/en/stable/user_install.html\n",
      "  from .autonotebook import tqdm as notebook_tqdm\n"
     ]
    }
   ],
   "source": [
    "from datasets import load_dataset, Dataset\n",
    "from collections import defaultdict"
   ]
  },
  {
   "cell_type": "code",
   "execution_count": 2,
   "id": "d8589bff",
   "metadata": {},
   "outputs": [],
   "source": [
    "dataset = load_dataset(\"edinburghcstr/ami\", \"ihm\")\n",
    "ds = dataset[\"train\"]"
   ]
  },
  {
   "cell_type": "code",
   "execution_count": 3,
   "id": "86b95b7d",
   "metadata": {},
   "outputs": [],
   "source": [
    "# Group utterances by meeting\n",
    "meeting_groups = defaultdict(list)\n",
    "for row in ds:\n",
    "    meeting_groups[row[\"meeting_id\"]].append(row)"
   ]
  },
  {
   "cell_type": "code",
   "execution_count": 4,
   "id": "01700981",
   "metadata": {},
   "outputs": [],
   "source": [
    "def create_sequences(\n",
    "    utterances, max_speakers=2, max_utts_per_speaker=3, max_duration=30.0\n",
    "):\n",
    "    sequences = []\n",
    "    current_seq = []\n",
    "    speaker_counts = defaultdict(int)\n",
    "    duration = 0.0\n",
    "\n",
    "    for utt in utterances:\n",
    "        speaker = utt[\"speaker_id\"]\n",
    "        dur = utt[\"end_time\"] - utt[\"begin_time\"]\n",
    "\n",
    "        if (\n",
    "            (\n",
    "                speaker not in speaker_counts.keys()\n",
    "                or speaker_counts[speaker] < max_utts_per_speaker\n",
    "            )\n",
    "            and len(speaker_counts) < max_speakers\n",
    "            and duration + dur <= max_duration\n",
    "        ):\n",
    "            current_seq.append(utt)\n",
    "            speaker_counts[speaker] += 1\n",
    "            duration += dur\n",
    "            continue\n",
    "\n",
    "        # If we get here, current utt did not fit - store current sequence\n",
    "        if len(current_seq) > 0:\n",
    "            sequences.append(current_seq)\n",
    "        # Start a new sequence with the one that didn't fit\n",
    "        current_seq = [utt]\n",
    "        speaker_counts = defaultdict(int)\n",
    "        speaker_counts[speaker] = 1\n",
    "        duration = dur\n",
    "\n",
    "    # Store the last sequence if it has any utterances\n",
    "    if len(current_seq) > 0:\n",
    "        sequences.append(current_seq)\n",
    "\n",
    "    return sequences"
   ]
  },
  {
   "cell_type": "code",
   "execution_count": 5,
   "id": "21082d20",
   "metadata": {},
   "outputs": [],
   "source": [
    "all_sequences = []\n",
    "for meeting_id, utterances in meeting_groups.items():\n",
    "    utterances.sort(key=lambda x: x[\"begin_time\"])\n",
    "    sequences = create_sequences(utterances)\n",
    "    all_sequences.extend(sequences)"
   ]
  },
  {
   "cell_type": "code",
   "execution_count": 6,
   "id": "efad449b",
   "metadata": {},
   "outputs": [
    {
     "name": "stdout",
     "output_type": "stream",
     "text": [
      "Speaker: MEO069, Text: GOSH, Start: 5.599999904632568, End: 6.010000228881836\n",
      "Speaker: MEO069, Text: 'KAY, Start: 10.479999542236328, End: 10.880000114440918\n",
      "Speaker: MEE068, Text: DOES ANYONE WANT TO SEE UH STEVE'S FEEDBACK FROM THE SPECIFICATION, Start: 11.09000015258789, End: 15.529999732971191\n"
     ]
    }
   ],
   "source": [
    "for i in all_sequences[1]:\n",
    "    print(f\"Speaker: {i['speaker_id']}, Text: {i['text']}, Start: {i['begin_time']}, End: {i['end_time']}\")\n",
    "    # print(f\"sampling rate: {i[\"audio\"][\"sampling_rate\"]}\")"
   ]
  },
  {
   "cell_type": "code",
   "execution_count": 7,
   "id": "0db7f8af",
   "metadata": {},
   "outputs": [],
   "source": [
    "import numpy as np"
   ]
  },
  {
   "cell_type": "code",
   "execution_count": 8,
   "id": "b19c9e92",
   "metadata": {},
   "outputs": [],
   "source": [
    "def build_transcript(seq):\n",
    "    speaker_map = {}\n",
    "    current_index = 1\n",
    "\n",
    "    for utt in seq:\n",
    "        spk = utt[\"speaker_id\"]\n",
    "        if spk not in speaker_map:\n",
    "            speaker_map[spk] = f\"[SPK{current_index}]\"\n",
    "            current_index += 1\n",
    "\n",
    "    lines = [f\"{speaker_map[utt['speaker_id']]} {utt['text']}\" for utt in seq]\n",
    "    return \" \".join(lines)"
   ]
  },
  {
   "cell_type": "code",
   "execution_count": 9,
   "id": "c89af4e1",
   "metadata": {},
   "outputs": [],
   "source": [
    "combined_sequences = []\n",
    "for i, seq in enumerate(all_sequences):\n",
    "    audio = []\n",
    "    sr = seq[0][\"audio\"][\"sampling_rate\"] # same for all utterances\n",
    "    for utt in seq:\n",
    "        audio.append(utt[\"audio\"][\"array\"])\n",
    "    audio = np.concatenate(audio)\n",
    "    text = build_transcript(seq)\n",
    "    combined_sequences.append({ \"audio\": { \"array\": audio, \"sampling_rate\": sr }, \"text\": text })\n",
    "    # print(audio)\n",
    "    # print(text)\n",
    "    # if i == 3:\n",
    "    #     break"
   ]
  },
  {
   "cell_type": "code",
   "execution_count": 10,
   "id": "c56c0def",
   "metadata": {},
   "outputs": [
    {
     "name": "stdout",
     "output_type": "stream",
     "text": [
      "[{'audio': {'array': array([0.00012207, 0.00015259, 0.00015259, ..., 0.00033569, 0.00030518,\n",
      "       0.00030518], shape=(14560,)), 'sampling_rate': 16000}, 'text': \"[SPK1] 'KAY [SPK2] OKAY\"}, {'audio': {'array': array([-0.00109863, -0.00152588, -0.0012207 , ...,  0.0005188 ,\n",
      "        0.00057983,  0.00061035], shape=(84000,)), 'sampling_rate': 16000}, 'text': \"[SPK1] GOSH [SPK1] 'KAY [SPK2] DOES ANYONE WANT TO SEE UH STEVE'S FEEDBACK FROM THE SPECIFICATION\"}, {'audio': {'array': array([-0.00021362, -0.00015259,  0.00012207, ..., -0.0010376 ,\n",
      "       -0.00140381, -0.00167847], shape=(61120,)), 'sampling_rate': 16000}, 'text': '[SPK1] IS THERE MUCH MORE IN IT THAN HE D [SPK2] I I DRY READ IT THE LAST TIME'}]\n"
     ]
    }
   ],
   "source": [
    "print(combined_sequences[0:3])"
   ]
  },
  {
   "cell_type": "code",
   "execution_count": 11,
   "id": "9f229bea",
   "metadata": {},
   "outputs": [],
   "source": [
    "import soundfile as sf\n",
    "import os\n",
    "import json"
   ]
  },
  {
   "cell_type": "code",
   "execution_count": 12,
   "id": "12bf3eb8",
   "metadata": {},
   "outputs": [],
   "source": [
    "\n",
    "output_dir = \"data/audio_sequences\"\n",
    "os.makedirs(output_dir, exist_ok=True)\n",
    "\n",
    "manifest = []\n",
    "\n",
    "for i, sample in enumerate(combined_sequences):\n",
    "    audio_array = sample[\"audio\"][\"array\"]\n",
    "    sampling_rate = sample[\"audio\"][\"sampling_rate\"]\n",
    "    text = sample[\"text\"]\n",
    "\n",
    "    audio_path = os.path.join(output_dir, f\"seq_{i}.wav\")\n",
    "    \n",
    "    # Save as 16-bit PCM WAV\n",
    "    sf.write(audio_path, audio_array, samplerate=sampling_rate, subtype='PCM_16')\n",
    "\n",
    "    # Add to manifest\n",
    "    manifest.append({\n",
    "        \"audio_path\": audio_path,\n",
    "        \"text\": text\n",
    "    })\n",
    "\n",
    "# Save manifest\n",
    "with open(\"data/manifest.jsonl\", \"w\") as f:\n",
    "    for entry in manifest:\n",
    "        f.write(json.dumps(entry) + \"\\n\")"
   ]
  }
 ],
 "metadata": {
  "kernelspec": {
   "display_name": "venv",
   "language": "python",
   "name": "python3"
  },
  "language_info": {
   "codemirror_mode": {
    "name": "ipython",
    "version": 3
   },
   "file_extension": ".py",
   "mimetype": "text/x-python",
   "name": "python",
   "nbconvert_exporter": "python",
   "pygments_lexer": "ipython3",
   "version": "3.13.3"
  }
 },
 "nbformat": 4,
 "nbformat_minor": 5
}
